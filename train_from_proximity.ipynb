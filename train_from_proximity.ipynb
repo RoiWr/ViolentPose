{
 "cells": [
  {
   "cell_type": "code",
   "execution_count": 1,
   "metadata": {
    "ExecuteTime": {
     "end_time": "2020-02-13T15:58:38.089578Z",
     "start_time": "2020-02-13T15:58:37.705718Z"
    }
   },
   "outputs": [],
   "source": [
    "import pandas as pd\n",
    "import numpy as np\n",
    "import glob"
   ]
  },
  {
   "cell_type": "code",
   "execution_count": 2,
   "metadata": {
    "ExecuteTime": {
     "end_time": "2020-02-13T15:58:38.134220Z",
     "start_time": "2020-02-13T15:58:38.131657Z"
    }
   },
   "outputs": [],
   "source": [
    "annotation_file = '/home/sagiv/Documents/ITC/final_smoking/Datasets/poses/in/labels.csv'\n",
    "proximity_dir = '/home/sagiv/Documents/ITC/final_smoking/Datasets/poses/out/proximity/'"
   ]
  },
  {
   "cell_type": "code",
   "execution_count": 3,
   "metadata": {
    "ExecuteTime": {
     "end_time": "2020-02-13T15:58:40.498930Z",
     "start_time": "2020-02-13T15:58:40.488201Z"
    }
   },
   "outputs": [],
   "source": [
    "columns = ['class','video','set','start','end','label']\n",
    "annot = pd.read_csv(annotation_file,header = None)\n",
    "annot.columns= columns"
   ]
  },
  {
   "cell_type": "code",
   "execution_count": 4,
   "metadata": {
    "ExecuteTime": {
     "end_time": "2020-02-13T15:58:41.204765Z",
     "start_time": "2020-02-13T15:58:41.192296Z"
    }
   },
   "outputs": [],
   "source": [
    "import re\n",
    "\n",
    "path_list = glob.glob(proximity_dir + '/*.pickle')\n",
    "regex = r\"[\\S]*v_(?P<filename>[\\S]*)_(?P<start>[\\d]*)_(?P<end>[\\d]*)_data.pickle$\"\n",
    "video_details = [re.split(regex, row)[1:-1] for row in path_list]"
   ]
  },
  {
   "cell_type": "code",
   "execution_count": 5,
   "metadata": {
    "ExecuteTime": {
     "end_time": "2020-02-13T15:58:42.500779Z",
     "start_time": "2020-02-13T15:58:42.495662Z"
    }
   },
   "outputs": [],
   "source": [
    "import pickle\n",
    "\n",
    "def load_proximities(proximity_dir):\n",
    "    names=[]\n",
    "    path_list = glob.glob(proximity_dir + '/*.pickle')\n",
    "    df_proximity = np.zeros(shape=(1,3024))\n",
    "    for path in path_list:\n",
    "        with open(path,'rb') as f:\n",
    "            tmp = pickle.load(f).reshape(-1)\n",
    "            video_name = re.split(regex, path)[1:-1]\n",
    "            if len(tmp) == 3024:\n",
    "                df_proximity = np.concatenate((df_proximity,tmp.reshape(1,-1)))\n",
    "    return df_proximity,names"
   ]
  },
  {
   "cell_type": "code",
   "execution_count": 9,
   "metadata": {
    "ExecuteTime": {
     "end_time": "2020-02-13T08:00:26.143846Z",
     "start_time": "2020-02-13T08:00:25.438936Z"
    }
   },
   "outputs": [],
   "source": [
    "proxis,names = load_proximities(proximity_dir)"
   ]
  },
  {
   "cell_type": "code",
   "execution_count": 10,
   "metadata": {
    "ExecuteTime": {
     "end_time": "2020-02-13T08:00:27.828727Z",
     "start_time": "2020-02-13T08:00:27.817564Z"
    }
   },
   "outputs": [
    {
     "data": {
      "text/plain": [
       "(261, 3024)"
      ]
     },
     "execution_count": 10,
     "metadata": {},
     "output_type": "execute_result"
    }
   ],
   "source": [
    "proxis.shape"
   ]
  },
  {
   "cell_type": "code",
   "execution_count": 11,
   "metadata": {
    "ExecuteTime": {
     "end_time": "2020-02-13T08:00:29.250699Z",
     "start_time": "2020-02-13T08:00:29.239025Z"
    }
   },
   "outputs": [
    {
     "data": {
      "text/plain": [
       "[]"
      ]
     },
     "execution_count": 11,
     "metadata": {},
     "output_type": "execute_result"
    }
   ],
   "source": [
    "names"
   ]
  },
  {
   "cell_type": "code",
   "execution_count": 12,
   "metadata": {
    "ExecuteTime": {
     "end_time": "2020-02-13T08:00:32.909491Z",
     "start_time": "2020-02-13T08:00:32.904953Z"
    }
   },
   "outputs": [],
   "source": [
    "tmp= annot.set_index('video')"
   ]
  },
  {
   "cell_type": "code",
   "execution_count": 13,
   "metadata": {
    "ExecuteTime": {
     "end_time": "2020-02-13T08:00:36.312561Z",
     "start_time": "2020-02-13T08:00:36.303789Z"
    }
   },
   "outputs": [
    {
     "data": {
      "text/plain": [
       "0"
      ]
     },
     "execution_count": 13,
     "metadata": {},
     "output_type": "execute_result"
    }
   ],
   "source": [
    "sum(annot.video.str.match('yebHYkXlqKY'))"
   ]
  },
  {
   "cell_type": "code",
   "execution_count": 45,
   "metadata": {
    "ExecuteTime": {
     "end_time": "2020-02-12T09:34:44.581041Z",
     "start_time": "2020-02-12T09:34:44.561905Z"
    }
   },
   "outputs": [],
   "source": [
    "\n",
    "with open(p,'rb') as f:\n",
    "    df_proximity = pickle.load(f).reshape(1,-1)\n",
    "with open(p,'rb') as f:\n",
    "    df_proximity = np.concatenate((df_proximity,pickle.load(f).reshape(1,-1)))\n",
    "    \n"
   ]
  },
  {
   "cell_type": "code",
   "execution_count": 6,
   "metadata": {
    "ExecuteTime": {
     "end_time": "2020-02-13T15:58:50.919243Z",
     "start_time": "2020-02-13T15:58:50.880682Z"
    }
   },
   "outputs": [],
   "source": [
    "import glob\n",
    "import os\n",
    "import pandas as pd\n",
    "\n",
    "\n",
    "df = pd.read_csv(annotation_file, header=None)\n",
    "df.columns = ['category', 'video', 'set', 'start', 'end', 'label']\n",
    "\n",
    "# helper functions\n",
    "def compose_vid_name(row):\n",
    "    name = '_'.join(['v', row['video'], str(int(row['start'])), str(int(row['end']))])\n",
    "    return name\n",
    "\n",
    "def compose_folder_list(folder, filetype):\n",
    "    filelist = [os.path.basename(f) for f in glob.glob(folder + r'/*.' + filetype)]\n",
    "    return ','.join(filelist)\n",
    "\n",
    "\n",
    "# main function\n",
    "def check_if_in_folder(df, category, data_folder, filetype):\n",
    "    ''' given labels df, category name, data folder such proximity, tracks, etc.\n",
    "    and filetype such as 'pkl', 'csv', 'mp4 , etc.' '''\n",
    "    subset = df.loc[df.category == category, :]\n",
    "    names = subset.apply(compose_vid_name, axis=1)\n",
    "    filelist = compose_folder_list(data_folder, filetype)\n",
    "    good_vids = []\n",
    "    labels = []\n",
    "    for name, label in zip(names, subset.label.values):\n",
    "        if name in filelist:\n",
    "            good_vids.append(name)\n",
    "            labels.append(label)\n",
    "    return good_vids, labels\n",
    "\n",
    "\n",
    "# test\n",
    "vids, lbs = check_if_in_folder(df, 'Doing kickboxing', '/home/sagiv/Documents/ITC/final_smoking/Datasets/poses/out/proximity/',\n",
    "                                   'pickle')"
   ]
  },
  {
   "cell_type": "code",
   "execution_count": 7,
   "metadata": {
    "ExecuteTime": {
     "end_time": "2020-02-13T15:58:53.547960Z",
     "start_time": "2020-02-13T15:58:53.434057Z"
    }
   },
   "outputs": [],
   "source": [
    "df_proximity = np.zeros(shape=(1,612))\n",
    "df_variance = np.zeros(shape=(1,36))\n",
    "lbs = []\n",
    "for category in ['Doing karate','Doing kickboxing']:\n",
    "    vids, lbs_tmp = check_if_in_folder(df, category, proximity_dir,\n",
    "                                   'pickle')\n",
    "    for vid,lb in zip(vids,lbs_tmp):\n",
    "        path  = proximity_dir+ vid + '_data.pickle'\n",
    "        with open(path,'rb') as f:\n",
    "            tmp = pickle.load(f)\n",
    "            if tmp.shape[0] < 17:\n",
    "                continue\n",
    "            for i in range(0,tmp.shape[2],6):\n",
    "                self_proximity = tmp[-17:,i:i+6,i:i+6]\n",
    "                self_var = np.var(self_proximity,axis=0)\n",
    "                df_proximity = np.concatenate((df_proximity,self_proximity.reshape(1,-1)))\n",
    "                df_variance = np.concatenate((df_variance,self_var.reshape(1,-1)))\n",
    "                lbs.append(lb)"
   ]
  },
  {
   "cell_type": "code",
   "execution_count": 8,
   "metadata": {
    "ExecuteTime": {
     "end_time": "2020-02-13T15:58:57.373207Z",
     "start_time": "2020-02-13T15:58:57.362176Z"
    }
   },
   "outputs": [
    {
     "data": {
      "text/plain": [
       "(275, 36)"
      ]
     },
     "execution_count": 8,
     "metadata": {},
     "output_type": "execute_result"
    }
   ],
   "source": [
    "df_variance.shape"
   ]
  },
  {
   "cell_type": "code",
   "execution_count": 9,
   "metadata": {
    "ExecuteTime": {
     "end_time": "2020-02-13T15:58:58.435205Z",
     "start_time": "2020-02-13T15:58:58.425990Z"
    }
   },
   "outputs": [],
   "source": [
    "X= df_variance\n",
    "X = np.delete(X,0,0)\n",
    "X[np.isnan(X)] = np.nanmax(X)"
   ]
  },
  {
   "cell_type": "code",
   "execution_count": 10,
   "metadata": {
    "ExecuteTime": {
     "end_time": "2020-02-13T15:58:59.533017Z",
     "start_time": "2020-02-13T15:58:58.874764Z"
    }
   },
   "outputs": [],
   "source": [
    "from sklearn.decomposition import PCA"
   ]
  },
  {
   "cell_type": "code",
   "execution_count": 21,
   "metadata": {
    "ExecuteTime": {
     "end_time": "2020-02-13T15:59:59.964665Z",
     "start_time": "2020-02-13T15:59:59.947051Z"
    }
   },
   "outputs": [],
   "source": [
    "pca = PCA(n_components=3)\n",
    "pca.fit(X)\n",
    "X_pc = pca.transform(X)"
   ]
  },
  {
   "cell_type": "code",
   "execution_count": 22,
   "metadata": {
    "ExecuteTime": {
     "end_time": "2020-02-13T16:00:00.401750Z",
     "start_time": "2020-02-13T16:00:00.396625Z"
    }
   },
   "outputs": [],
   "source": [
    "import matplotlib.pyplot as plt\n",
    "from mpl_toolkits.mplot3d import Axes3D"
   ]
  },
  {
   "cell_type": "code",
   "execution_count": 24,
   "metadata": {
    "ExecuteTime": {
     "end_time": "2020-02-13T16:00:50.285297Z",
     "start_time": "2020-02-13T16:00:50.091275Z"
    }
   },
   "outputs": [
    {
     "name": "stderr",
     "output_type": "stream",
     "text": [
      "No handles with labels found to put in legend.\n"
     ]
    },
    {
     "data": {
      "text/plain": [
       "<matplotlib.legend.Legend at 0x7fe9b77e57b8>"
      ]
     },
     "execution_count": 24,
     "metadata": {},
     "output_type": "execute_result"
    },
    {
     "data": {
      "image/png": "[encoded data removed]",
      "text/plain": [
       "<Figure size 576x432 with 1 Axes>"
      ]
     },
     "metadata": {
      "needs_background": "light"
     },
     "output_type": "display_data"
    }
   ],
   "source": [
    "fig = plt.figure(1, figsize=(8, 6))\n",
    "ax = Axes3D(fig, rect=[0, 0, .95, 1], elev=90, azim=90)\n",
    "ax.scatter(X_pc[:,0],X_pc[:,1],c=[\"r\" if i==1 else \"b\" for i in lbs],s=100)\n",
    "plt.legend()"
   ]
  },
  {
   "cell_type": "code",
   "execution_count": 23,
   "metadata": {
    "ExecuteTime": {
     "end_time": "2020-02-13T08:00:47.562332Z",
     "start_time": "2020-02-13T08:00:47.332493Z"
    }
   },
   "outputs": [
    {
     "data": {
      "text/plain": [
       "<BarContainer object of 36 artists>"
      ]
     },
     "execution_count": 23,
     "metadata": {},
     "output_type": "execute_result"
    },
    {
     "data": {
      "image/png": "[encoded data removed]",
      "text/plain": [
       "<Figure size 432x288 with 1 Axes>"
      ]
     },
     "metadata": {
      "needs_background": "light"
     },
     "output_type": "display_data"
    }
   ],
   "source": [
    "plt.bar([i for i in range(len(pca.components_[0]))],height = abs( pca.components_[0])+abs( pca.components_[1])+abs( pca.components_[2]))"
   ]
  },
  {
   "cell_type": "code",
   "execution_count": 24,
   "metadata": {
    "ExecuteTime": {
     "end_time": "2020-02-13T08:00:48.056306Z",
     "start_time": "2020-02-13T08:00:48.047319Z"
    }
   },
   "outputs": [],
   "source": [
    "comps = [abs(component.reshape(-1,6,6)).sum(axis=0) for component in pca.components_]"
   ]
  },
  {
   "cell_type": "code",
   "execution_count": 26,
   "metadata": {
    "ExecuteTime": {
     "end_time": "2020-02-13T08:01:23.362362Z",
     "start_time": "2020-02-13T08:01:23.140275Z"
    }
   },
   "outputs": [
    {
     "data": {
      "text/plain": [
       "Text(0.5, 1.0, 'Object 1 self-proximity variance')"
      ]
     },
     "execution_count": 26,
     "metadata": {},
     "output_type": "execute_result"
    },
    {
     "data": {
      "image/png": "[encoded data removed]",
      "text/plain": [
       "<Figure size 432x288 with 2 Axes>"
      ]
     },
     "metadata": {
      "needs_background": "light"
     },
     "output_type": "display_data"
    }
   ],
   "source": [
    "ax = plt.imshow(comps[0],cmap = 'cool')\n",
    "plt.colorbar()\n",
    "DANGER_JOINTS = ['nose', 'neck', 'left_wrist', 'right_wrist', 'left_ankle', 'right_ankle']\n",
    "labels = [DANGER_JOINTS[i % len(DANGER_JOINTS)] for i in range(6)]\n",
    "\n",
    "plt.yticks(range(len(labels)),labels)\n",
    "plt.xticks(range(len(labels)),labels,rotation = 90);\n",
    "plt.title('Object 1 self-proximity variance')"
   ]
  },
  {
   "cell_type": "code",
   "execution_count": 176,
   "metadata": {
    "ExecuteTime": {
     "end_time": "2020-02-12T12:59:41.295046Z",
     "start_time": "2020-02-12T12:59:41.279775Z"
    }
   },
   "outputs": [
    {
     "data": {
      "text/plain": [
       "['r',\n",
       " 'r',\n",
       " 'r',\n",
       " 'r',\n",
       " 'r',\n",
       " 'b',\n",
       " 'b',\n",
       " 'b',\n",
       " 'b',\n",
       " 'b',\n",
       " 'b',\n",
       " 'b',\n",
       " 'b',\n",
       " 'b',\n",
       " 'b',\n",
       " 'b',\n",
       " 'b',\n",
       " 'b',\n",
       " 'r',\n",
       " 'b',\n",
       " 'b',\n",
       " 'b',\n",
       " 'r']"
      ]
     },
     "execution_count": 176,
     "metadata": {},
     "output_type": "execute_result"
    }
   ],
   "source": [
    "[\"r\" if i==1 else \"b\" for i in lbs]"
   ]
  },
  {
   "cell_type": "code",
   "execution_count": 181,
   "metadata": {
    "ExecuteTime": {
     "end_time": "2020-02-12T13:00:32.144704Z",
     "start_time": "2020-02-12T13:00:32.123733Z"
    }
   },
   "outputs": [
    {
     "ename": "ValueError",
     "evalue": "cannot delete array elements",
     "output_type": "error",
     "traceback": [
      "\u001b[0;31m---------------------------------------------------------------------------\u001b[0m",
      "\u001b[0;31mValueError\u001b[0m                                Traceback (most recent call last)",
      "\u001b[0;32m<ipython-input-181-64e456976df3>\u001b[0m in \u001b[0;36m<module>\u001b[0;34m\u001b[0m\n\u001b[0;32m----> 1\u001b[0;31m \u001b[0;32mdel\u001b[0m \u001b[0mdf_proximity\u001b[0m\u001b[0;34m[\u001b[0m\u001b[0;36m0\u001b[0m\u001b[0;34m,\u001b[0m\u001b[0;34m:\u001b[0m\u001b[0;34m]\u001b[0m\u001b[0;34m\u001b[0m\u001b[0;34m\u001b[0m\u001b[0m\n\u001b[0m",
      "\u001b[0;31mValueError\u001b[0m: cannot delete array elements"
     ]
    }
   ],
   "source": [
    "df_proximity[0,:]"
   ]
  },
  {
   "cell_type": "code",
   "execution_count": 27,
   "metadata": {
    "ExecuteTime": {
     "end_time": "2020-02-13T08:02:28.834795Z",
     "start_time": "2020-02-13T08:02:28.807813Z"
    }
   },
   "outputs": [
    {
     "data": {
      "text/plain": [
       "array([[[  0.        ,  53.90732789, 118.11858448,          nan,\n",
       "                  nan,          nan],\n",
       "        [ 53.90732789,   0.        , 119.03780912,          nan,\n",
       "                  nan,          nan],\n",
       "        [118.11858448, 119.03780912,   0.        ,          nan,\n",
       "                  nan,          nan],\n",
       "        [         nan,          nan,          nan,   0.        ,\n",
       "           0.        ,   0.        ],\n",
       "        [         nan,          nan,          nan,   0.        ,\n",
       "           0.        ,   0.        ],\n",
       "        [         nan,          nan,          nan,   0.        ,\n",
       "           0.        ,   0.        ]],\n",
       "\n",
       "       [[  0.        ,  54.67174773, 116.7647207 ,          nan,\n",
       "                  nan,          nan],\n",
       "        [ 54.67174773,   0.        , 118.46096403,          nan,\n",
       "                  nan,          nan],\n",
       "        [116.7647207 , 118.46096403,   0.        ,          nan,\n",
       "                  nan,          nan],\n",
       "        [         nan,          nan,          nan,   0.        ,\n",
       "           0.        ,   0.        ],\n",
       "        [         nan,          nan,          nan,   0.        ,\n",
       "           0.        ,   0.        ],\n",
       "        [         nan,          nan,          nan,   0.        ,\n",
       "           0.        ,   0.        ]],\n",
       "\n",
       "       [[  0.        ,  53.41348144, 114.52947219,          nan,\n",
       "                  nan,          nan],\n",
       "        [ 53.41348144,   0.        , 117.64352936,          nan,\n",
       "                  nan,          nan],\n",
       "        [114.52947219, 117.64352936,   0.        ,          nan,\n",
       "                  nan,          nan],\n",
       "        [         nan,          nan,          nan,   0.        ,\n",
       "           0.        ,   0.        ],\n",
       "        [         nan,          nan,          nan,   0.        ,\n",
       "           0.        ,   0.        ],\n",
       "        [         nan,          nan,          nan,   0.        ,\n",
       "           0.        ,   0.        ]],\n",
       "\n",
       "       [[  0.        ,  50.32891813, 114.94781425,          nan,\n",
       "                  nan,          nan],\n",
       "        [ 50.32891813,   0.        , 114.20157617,          nan,\n",
       "                  nan,          nan],\n",
       "        [114.94781425, 114.20157617,   0.        ,          nan,\n",
       "                  nan,          nan],\n",
       "        [         nan,          nan,          nan,   0.        ,\n",
       "           0.        ,   0.        ],\n",
       "        [         nan,          nan,          nan,   0.        ,\n",
       "           0.        ,   0.        ],\n",
       "        [         nan,          nan,          nan,   0.        ,\n",
       "           0.        ,   0.        ]],\n",
       "\n",
       "       [[  0.        ,  51.85556865, 114.03946685,          nan,\n",
       "                  nan,          nan],\n",
       "        [ 51.85556865,   0.        , 114.20157617,          nan,\n",
       "                  nan,          nan],\n",
       "        [114.03946685, 114.20157617,   0.        ,          nan,\n",
       "                  nan,          nan],\n",
       "        [         nan,          nan,          nan,   0.        ,\n",
       "           0.        ,   0.        ],\n",
       "        [         nan,          nan,          nan,   0.        ,\n",
       "           0.        ,   0.        ],\n",
       "        [         nan,          nan,          nan,   0.        ,\n",
       "           0.        ,   0.        ]],\n",
       "\n",
       "       [[  0.        ,  51.0881591 , 112.71202243,          nan,\n",
       "                  nan,          nan],\n",
       "        [ 51.0881591 ,   0.        , 113.00442469,          nan,\n",
       "                  nan,          nan],\n",
       "        [112.71202243, 113.00442469,   0.        ,          nan,\n",
       "                  nan,          nan],\n",
       "        [         nan,          nan,          nan,   0.        ,\n",
       "           0.        ,   0.        ],\n",
       "        [         nan,          nan,          nan,   0.        ,\n",
       "           0.        ,   0.        ],\n",
       "        [         nan,          nan,          nan,   0.        ,\n",
       "           0.        ,   0.        ]],\n",
       "\n",
       "       [[  0.        ,  50.99019514, 115.83609109,          nan,\n",
       "                  nan,          nan],\n",
       "        [ 50.99019514,   0.        , 114.20157617,          nan,\n",
       "                  nan,          nan],\n",
       "        [115.83609109, 114.20157617,   0.        ,          nan,\n",
       "                  nan,          nan],\n",
       "        [         nan,          nan,          nan,   0.        ,\n",
       "           0.        ,   0.        ],\n",
       "        [         nan,          nan,          nan,   0.        ,\n",
       "           0.        ,   0.        ],\n",
       "        [         nan,          nan,          nan,   0.        ,\n",
       "           0.        ,   0.        ]],\n",
       "\n",
       "       [[  0.        ,  48.91829923, 116.7261753 ,          nan,\n",
       "                  nan,          nan],\n",
       "        [ 48.91829923,   0.        , 115.25623627,          nan,\n",
       "                  nan,          nan],\n",
       "        [116.7261753 , 115.25623627,   0.        ,          nan,\n",
       "                  nan,          nan],\n",
       "        [         nan,          nan,          nan,   0.        ,\n",
       "           0.        ,   0.        ],\n",
       "        [         nan,          nan,          nan,   0.        ,\n",
       "           0.        ,   0.        ],\n",
       "        [         nan,          nan,          nan,   0.        ,\n",
       "           0.        ,   0.        ]],\n",
       "\n",
       "       [[  0.        ,  47.50789408, 115.83609109,          nan,\n",
       "                  nan,          nan],\n",
       "        [ 47.50789408,   0.        , 114.47707194,          nan,\n",
       "                  nan,          nan],\n",
       "        [115.83609109, 114.47707194,   0.        ,          nan,\n",
       "                  nan,          nan],\n",
       "        [         nan,          nan,          nan,   0.        ,\n",
       "           0.        ,   0.        ],\n",
       "        [         nan,          nan,          nan,   0.        ,\n",
       "           0.        ,   0.        ],\n",
       "        [         nan,          nan,          nan,   0.        ,\n",
       "           0.        ,   0.        ]],\n",
       "\n",
       "       [[  0.        ,  50.44799302, 114.06138698,          nan,\n",
       "                  nan,          nan],\n",
       "        [ 50.44799302,   0.        , 115.        ,          nan,\n",
       "                  nan,          nan],\n",
       "        [114.06138698, 115.        ,   0.        ,          nan,\n",
       "                  nan,          nan],\n",
       "        [         nan,          nan,          nan,   0.        ,\n",
       "           0.        ,   0.        ],\n",
       "        [         nan,          nan,          nan,   0.        ,\n",
       "           0.        ,   0.        ],\n",
       "        [         nan,          nan,          nan,   0.        ,\n",
       "           0.        ,   0.        ]],\n",
       "\n",
       "       [[  0.        ,  49.67896939, 115.41230437,          nan,\n",
       "                  nan,          nan],\n",
       "        [ 49.67896939,   0.        , 115.60276813,          nan,\n",
       "                  nan,          nan],\n",
       "        [115.41230437, 115.60276813,   0.        ,          nan,\n",
       "                  nan,          nan],\n",
       "        [         nan,          nan,          nan,   0.        ,\n",
       "           0.        ,   0.        ],\n",
       "        [         nan,          nan,          nan,   0.        ,\n",
       "           0.        ,   0.        ],\n",
       "        [         nan,          nan,          nan,   0.        ,\n",
       "           0.        ,   0.        ]],\n",
       "\n",
       "       [[  0.        ,  49.67896939,          nan,          nan,\n",
       "                  nan,          nan],\n",
       "        [ 49.67896939,   0.        ,          nan,          nan,\n",
       "                  nan,          nan],\n",
       "        [         nan,          nan,   0.        ,   0.        ,\n",
       "           0.        ,   0.        ],\n",
       "        [         nan,          nan,   0.        ,   0.        ,\n",
       "           0.        ,   0.        ],\n",
       "        [         nan,          nan,   0.        ,   0.        ,\n",
       "           0.        ,   0.        ],\n",
       "        [         nan,          nan,   0.        ,   0.        ,\n",
       "           0.        ,   0.        ]],\n",
       "\n",
       "       [[  0.        ,  51.4003891 , 138.65424624,          nan,\n",
       "                  nan,          nan],\n",
       "        [ 51.4003891 ,   0.        , 139.60300856,          nan,\n",
       "                  nan,          nan],\n",
       "        [138.65424624, 139.60300856,   0.        ,          nan,\n",
       "                  nan,          nan],\n",
       "        [         nan,          nan,          nan,   0.        ,\n",
       "           0.        ,   0.        ],\n",
       "        [         nan,          nan,          nan,   0.        ,\n",
       "           0.        ,   0.        ],\n",
       "        [         nan,          nan,          nan,   0.        ,\n",
       "           0.        ,   0.        ]],\n",
       "\n",
       "       [[  0.        ,  53.60037313, 128.08200498,          nan,\n",
       "                  nan,          nan],\n",
       "        [ 53.60037313,   0.        , 123.06908629,          nan,\n",
       "                  nan,          nan],\n",
       "        [128.08200498, 123.06908629,   0.        ,          nan,\n",
       "                  nan,          nan],\n",
       "        [         nan,          nan,          nan,   0.        ,\n",
       "           0.        ,   0.        ],\n",
       "        [         nan,          nan,          nan,   0.        ,\n",
       "           0.        ,   0.        ],\n",
       "        [         nan,          nan,          nan,   0.        ,\n",
       "           0.        ,   0.        ]],\n",
       "\n",
       "       [[  0.        ,  58.24946352, 126.49110641,          nan,\n",
       "                  nan,          nan],\n",
       "        [ 58.24946352,   0.        , 123.745707  ,          nan,\n",
       "                  nan,          nan],\n",
       "        [126.49110641, 123.745707  ,   0.        ,          nan,\n",
       "                  nan,          nan],\n",
       "        [         nan,          nan,          nan,   0.        ,\n",
       "           0.        ,   0.        ],\n",
       "        [         nan,          nan,          nan,   0.        ,\n",
       "           0.        ,   0.        ],\n",
       "        [         nan,          nan,          nan,   0.        ,\n",
       "           0.        ,   0.        ]],\n",
       "\n",
       "       [[  0.        ,  52.40229003, 127.47548784,          nan,\n",
       "                  nan,          nan],\n",
       "        [ 52.40229003,   0.        , 125.25174649,          nan,\n",
       "                  nan,          nan],\n",
       "        [127.47548784, 125.25174649,   0.        ,          nan,\n",
       "                  nan,          nan],\n",
       "        [         nan,          nan,          nan,   0.        ,\n",
       "           0.        ,   0.        ],\n",
       "        [         nan,          nan,          nan,   0.        ,\n",
       "           0.        ,   0.        ],\n",
       "        [         nan,          nan,          nan,   0.        ,\n",
       "           0.        ,   0.        ]],\n",
       "\n",
       "       [[  0.        ,  52.34500931, 122.44998979,          nan,\n",
       "                  nan,          nan],\n",
       "        [ 52.34500931,   0.        , 122.31925441,          nan,\n",
       "                  nan,          nan],\n",
       "        [122.44998979, 122.31925441,   0.        ,          nan,\n",
       "                  nan,          nan],\n",
       "        [         nan,          nan,          nan,   0.        ,\n",
       "           0.        ,   0.        ],\n",
       "        [         nan,          nan,          nan,   0.        ,\n",
       "           0.        ,   0.        ],\n",
       "        [         nan,          nan,          nan,   0.        ,\n",
       "           0.        ,   0.        ]]])"
      ]
     },
     "execution_count": 27,
     "metadata": {},
     "output_type": "execute_result"
    }
   ],
   "source": [
    "self_proximity"
   ]
  },
  {
   "cell_type": "code",
   "execution_count": 185,
   "metadata": {
    "ExecuteTime": {
     "end_time": "2020-02-12T13:02:13.225104Z",
     "start_time": "2020-02-12T13:02:13.220539Z"
    }
   },
   "outputs": [],
   "source": [
    "tp = np.delete(X,0,0)"
   ]
  },
  {
   "cell_type": "code",
   "execution_count": 29,
   "metadata": {
    "ExecuteTime": {
     "end_time": "2020-02-13T08:03:09.810065Z",
     "start_time": "2020-02-13T08:03:09.800766Z"
    }
   },
   "outputs": [
    {
     "data": {
      "text/plain": [
       "'/home/sagiv/Documents/ITC/final_smoking/Datasets/poses/out/proximity/v_OG_OWHeIG_0_35_37_data.pickle'"
      ]
     },
     "execution_count": 29,
     "metadata": {},
     "output_type": "execute_result"
    }
   ],
   "source": [
    "path_list[0]"
   ]
  },
  {
   "cell_type": "code",
   "execution_count": 30,
   "metadata": {
    "ExecuteTime": {
     "end_time": "2020-02-13T08:03:21.383776Z",
     "start_time": "2020-02-13T08:03:21.370913Z"
    }
   },
   "outputs": [],
   "source": [
    "with open(path_list[0],'rb') as f:\n",
    "            tmp = pickle.load(f)"
   ]
  },
  {
   "cell_type": "code",
   "execution_count": 43,
   "metadata": {
    "ExecuteTime": {
     "end_time": "2020-02-13T08:15:48.541338Z",
     "start_time": "2020-02-13T08:15:47.128047Z"
    }
   },
   "outputs": [
    {
     "data": {
      "image/png": "[encoded data removed]",
      "text/plain": [
       "<Figure size 720x720 with 25 Axes>"
      ]
     },
     "metadata": {
      "needs_background": "light"
     },
     "output_type": "display_data"
    }
   ],
   "source": [
    "f, ax = plt.subplots(5,5,figsize=(10,10))\n",
    "ax=ax.ravel()\n",
    "plt.tight_layout()\n",
    "for i,frame in enumerate(tmp):\n",
    "    ax[i].imshow(frame,cmap = 'cool')\n",
    "    ax[i].set_xticks([], [])\n",
    "    ax[i].set_yticks([], [])\n",
    "#     DANGER_JOINTS = ['nose', 'neck', 'left_wrist', 'right_wrist', 'left_ankle', 'right_ankle']\n",
    "#     labels = [DANGER_JOINTS[i % len(DANGER_JOINTS)] for i in range(frame.shape[1])]\n",
    "\n",
    "#     ax[i].set_yticks(range(len(labels)),labels)\n",
    "#     ax[i].set_xticks(range(len(labels)),labels);\n",
    "    ax[i].set_title('frame ' + str(i))"
   ]
  },
  {
   "cell_type": "code",
   "execution_count": 220,
   "metadata": {
    "ExecuteTime": {
     "end_time": "2020-02-12T13:31:36.777035Z",
     "start_time": "2020-02-12T13:31:36.771375Z"
    }
   },
   "outputs": [],
   "source": [
    "from scipy.interpolate import griddata"
   ]
  },
  {
   "cell_type": "code",
   "execution_count": 222,
   "metadata": {
    "ExecuteTime": {
     "end_time": "2020-02-12T13:32:21.061900Z",
     "start_time": "2020-02-12T13:32:21.048040Z"
    }
   },
   "outputs": [],
   "source": [
    "points = np.argwhere(~np.isnan(tmp))\n",
    "values = tmp[points]"
   ]
  },
  {
   "cell_type": "code",
   "execution_count": 281,
   "metadata": {
    "ExecuteTime": {
     "end_time": "2020-02-12T14:58:37.652211Z",
     "start_time": "2020-02-12T14:58:37.645008Z"
    }
   },
   "outputs": [
    {
     "name": "stdout",
     "output_type": "stream",
     "text": [
      "(21, 6, 6)\n",
      "(21, 6, 6)\n"
     ]
    }
   ],
   "source": [
    "for i in range(0,12,6):\n",
    "    print(tmp[:,i:i+6,i:i+6].shape)"
   ]
  },
  {
   "cell_type": "code",
   "execution_count": 277,
   "metadata": {
    "ExecuteTime": {
     "end_time": "2020-02-12T14:54:07.827886Z",
     "start_time": "2020-02-12T14:54:07.818920Z"
    }
   },
   "outputs": [
    {
     "data": {
      "text/plain": [
       "12"
      ]
     },
     "execution_count": 277,
     "metadata": {},
     "output_type": "execute_result"
    }
   ],
   "source": [
    "tmp.shape[2]"
   ]
  },
  {
   "cell_type": "code",
   "execution_count": 224,
   "metadata": {
    "ExecuteTime": {
     "end_time": "2020-02-12T13:33:03.548216Z",
     "start_time": "2020-02-12T13:33:03.389174Z"
    }
   },
   "outputs": [
    {
     "data": {
      "text/plain": [
       "array([[[nan, nan, nan, nan, nan, nan, nan, nan, nan, nan, nan, nan],\n",
       "        [nan, nan, nan, nan, nan, nan, nan, nan, nan, nan, nan, nan],\n",
       "        [nan, nan, nan, nan, nan, nan, nan, nan, nan, nan, nan, nan],\n",
       "        [nan, nan, nan, nan, nan, nan, nan, nan, nan, nan, nan, nan],\n",
       "        [nan, nan, nan, nan, nan, nan, nan, nan, nan, nan, nan, nan],\n",
       "        [nan, nan, nan, nan, nan, nan, nan, nan, nan, nan, nan, nan],\n",
       "        [nan, nan, nan, nan, nan, nan, nan, nan, nan, nan, nan, nan],\n",
       "        [nan, nan, nan, nan, nan, nan, nan, nan, nan, nan, nan, nan],\n",
       "        [nan, nan, nan, nan, nan, nan, nan, nan, nan, nan, nan, nan],\n",
       "        [nan, nan, nan, nan, nan, nan, nan, nan, nan, nan, nan, nan],\n",
       "        [nan, nan, nan, nan, nan, nan, nan, nan, nan, nan, nan, nan],\n",
       "        [nan, nan, nan, nan, nan, nan, nan, nan, nan, nan, nan, nan]],\n",
       "\n",
       "       [[nan, nan, nan, nan, nan, nan, nan, nan, nan, nan, nan, nan],\n",
       "        [nan, nan, nan, nan, nan, nan, nan, nan, nan, nan, nan, nan],\n",
       "        [nan, nan, nan, nan, nan, nan, nan, nan, nan, nan, nan, nan],\n",
       "        [nan, nan, nan, nan, nan, nan, nan, nan, nan, nan, nan, nan],\n",
       "        [nan, nan, nan, nan, nan, nan, nan, nan, nan, nan, nan, nan],\n",
       "        [nan, nan, nan, nan, nan, nan, nan, nan, nan, nan, nan, nan],\n",
       "        [nan, nan, nan, nan, nan, nan, nan, nan, nan, nan, nan, nan],\n",
       "        [nan, nan, nan, nan, nan, nan, nan, nan, nan, nan, nan, nan],\n",
       "        [nan, nan, nan, nan, nan, nan, nan, nan, nan, nan, nan, nan],\n",
       "        [nan, nan, nan, nan, nan, nan, nan, nan, nan, nan, nan, nan],\n",
       "        [nan, nan, nan, nan, nan, nan, nan, nan, nan, nan, nan, nan],\n",
       "        [nan, nan, nan, nan, nan, nan, nan, nan, nan, nan, nan, nan]],\n",
       "\n",
       "       [[nan, nan, nan, nan, nan, nan, nan, nan, nan, nan, nan, nan],\n",
       "        [nan, nan, nan, nan, nan, nan, nan, nan, nan, nan, nan, nan],\n",
       "        [nan, nan, nan, nan, nan, nan, nan, nan, nan, nan, nan, nan],\n",
       "        [nan, nan, nan, nan, nan, nan, nan, nan, nan, nan, nan, nan],\n",
       "        [nan, nan, nan, nan, nan, nan, nan, nan, nan, nan, nan, nan],\n",
       "        [nan, nan, nan, nan, nan, nan, nan, nan, nan, nan, nan, nan],\n",
       "        [nan, nan, nan, nan, nan, nan, nan, nan, nan, nan, nan, nan],\n",
       "        [nan, nan, nan, nan, nan, nan, nan, nan, nan, nan, nan, nan],\n",
       "        [nan, nan, nan, nan, nan, nan, nan, nan, nan, nan, nan, nan],\n",
       "        [nan, nan, nan, nan, nan, nan, nan, nan, nan, nan, nan, nan],\n",
       "        [nan, nan, nan, nan, nan, nan, nan, nan, nan, nan, nan, nan],\n",
       "        [nan, nan, nan, nan, nan, nan, nan, nan, nan, nan, nan, nan]]])"
      ]
     },
     "execution_count": 224,
     "metadata": {},
     "output_type": "execute_result"
    }
   ],
   "source": [
    "griddata(points,values,tmp.shape,method='linear')"
   ]
  },
  {
   "cell_type": "code",
   "execution_count": 221,
   "metadata": {
    "ExecuteTime": {
     "end_time": "2020-02-12T13:31:54.916490Z",
     "start_time": "2020-02-12T13:31:54.900759Z"
    }
   },
   "outputs": [
    {
     "data": {
      "text/plain": [
       "array([[ 0,  0,  0],\n",
       "       [ 0,  0,  1],\n",
       "       [ 0,  0,  2],\n",
       "       ...,\n",
       "       [20, 11,  9],\n",
       "       [20, 11, 10],\n",
       "       [20, 11, 11]])"
      ]
     },
     "execution_count": 221,
     "metadata": {},
     "output_type": "execute_result"
    }
   ],
   "source": [
    "np.argwhere(~np.isnan(tmp))"
   ]
  },
  {
   "cell_type": "code",
   "execution_count": 274,
   "metadata": {
    "ExecuteTime": {
     "end_time": "2020-02-12T14:36:39.149594Z",
     "start_time": "2020-02-12T14:36:38.976677Z"
    }
   },
   "outputs": [
    {
     "data": {
      "image/png": "[encoded data removed]",
      "text/plain": [
       "<Figure size 432x288 with 1 Axes>"
      ]
     },
     "metadata": {
      "needs_background": "light"
     },
     "output_type": "display_data"
    }
   ],
   "source": [
    "ax = plt.imshow(np.random.random((50,50)),cmap = 'cool')"
   ]
  },
  {
   "cell_type": "code",
   "execution_count": null,
   "metadata": {},
   "outputs": [],
   "source": []
  }
 ],
 "metadata": {
  "kernelspec": {
   "display_name": "Python 3",
   "language": "python",
   "name": "python3"
  },
  "language_info": {
   "codemirror_mode": {
    "name": "ipython",
    "version": 3
   },
   "file_extension": ".py",
   "mimetype": "text/x-python",
   "name": "python",
   "nbconvert_exporter": "python",
   "pygments_lexer": "ipython3",
   "version": "3.6.7"
  },
  "toc": {
   "base_numbering": 1,
   "nav_menu": {},
   "number_sections": true,
   "sideBar": true,
   "skip_h1_title": false,
   "title_cell": "Table of Contents",
   "title_sidebar": "Contents",
   "toc_cell": false,
   "toc_position": {},
   "toc_section_display": true,
   "toc_window_display": false
  },
  "varInspector": {
   "cols": {
    "lenName": 16,
    "lenType": 16,
    "lenVar": 40
   },
   "kernels_config": {
    "python": {
     "delete_cmd_postfix": "",
     "delete_cmd_prefix": "del ",
     "library": "var_list.py",
     "varRefreshCmd": "print(var_dic_list())"
    },
    "r": {
     "delete_cmd_postfix": ") ",
     "delete_cmd_prefix": "rm(",
     "library": "var_list.r",
     "varRefreshCmd": "cat(var_dic_list()) "
    }
   },
   "types_to_exclude": [
    "module",
    "function",
    "builtin_function_or_method",
    "instance",
    "_Feature"
   ],
   "window_display": false
  }
 },
 "nbformat": 4,
 "nbformat_minor": 2
}
